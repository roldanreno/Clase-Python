{
 "cells": [
  {
   "cell_type": "markdown",
   "metadata": {},
   "source": [
    "# Tarea 2\n",
    "\n",
    "## Integrantes\n",
    "\n",
    "    - Karla Paola Reyo Olan\n",
    "    - Rene Roldan Correa\n",
    "    \n",
    "1.- Importar y explorar los datos:\n",
    "<br>"
   ]
  },
  {
   "cell_type": "code",
   "execution_count": 27,
   "metadata": {},
   "outputs": [],
   "source": [
    "import os\n",
    "import numpy as np\n",
    "import pandas as pd\n",
    "import matplotlib.pyplot as plt\n",
    "\n",
    "# importar los archivos\n",
    "train = pd.read_csv('datasets/train.csv')\n",
    "test = pd.read_csv('datasets/test.csv')"
   ]
  },
  {
   "cell_type": "markdown",
   "metadata": {},
   "source": [
    "<br>\n",
    "### Exploracion de los datos:\n",
    "<br>"
   ]
  },
  {
   "cell_type": "code",
   "execution_count": 28,
   "metadata": {
    "scrolled": true
   },
   "outputs": [
    {
     "name": "stdout",
     "output_type": "stream",
     "text": [
      "\n",
      "Dataset de Entrenamiento\n",
      "\n",
      "El número de columnas es 13\n",
      "El total de observaciones es de 614\n",
      "\n",
      "Dataset de Prueba\n",
      "El total de observaciones en el dataset de entrenamineto es de 367\n",
      "Nuestros datos se ven así: \n"
     ]
    },
    {
     "data": {
      "text/html": [
       "<div>\n",
       "<style scoped>\n",
       "    .dataframe tbody tr th:only-of-type {\n",
       "        vertical-align: middle;\n",
       "    }\n",
       "\n",
       "    .dataframe tbody tr th {\n",
       "        vertical-align: top;\n",
       "    }\n",
       "\n",
       "    .dataframe thead th {\n",
       "        text-align: right;\n",
       "    }\n",
       "</style>\n",
       "<table border=\"1\" class=\"dataframe\">\n",
       "  <thead>\n",
       "    <tr style=\"text-align: right;\">\n",
       "      <th></th>\n",
       "      <th>Loan_ID</th>\n",
       "      <th>Gender</th>\n",
       "      <th>Married</th>\n",
       "      <th>Dependents</th>\n",
       "      <th>Education</th>\n",
       "      <th>Self_Employed</th>\n",
       "      <th>ApplicantIncome</th>\n",
       "      <th>CoapplicantIncome</th>\n",
       "      <th>LoanAmount</th>\n",
       "      <th>Loan_Amount_Term</th>\n",
       "      <th>Credit_History</th>\n",
       "      <th>Property_Area</th>\n",
       "      <th>Loan_Status</th>\n",
       "    </tr>\n",
       "  </thead>\n",
       "  <tbody>\n",
       "    <tr>\n",
       "      <th>0</th>\n",
       "      <td>LP001002</td>\n",
       "      <td>Male</td>\n",
       "      <td>No</td>\n",
       "      <td>0</td>\n",
       "      <td>Graduate</td>\n",
       "      <td>No</td>\n",
       "      <td>5849</td>\n",
       "      <td>0.0</td>\n",
       "      <td>NaN</td>\n",
       "      <td>360.0</td>\n",
       "      <td>1.0</td>\n",
       "      <td>Urban</td>\n",
       "      <td>Y</td>\n",
       "    </tr>\n",
       "    <tr>\n",
       "      <th>1</th>\n",
       "      <td>LP001003</td>\n",
       "      <td>Male</td>\n",
       "      <td>Yes</td>\n",
       "      <td>1</td>\n",
       "      <td>Graduate</td>\n",
       "      <td>No</td>\n",
       "      <td>4583</td>\n",
       "      <td>1508.0</td>\n",
       "      <td>128.0</td>\n",
       "      <td>360.0</td>\n",
       "      <td>1.0</td>\n",
       "      <td>Rural</td>\n",
       "      <td>N</td>\n",
       "    </tr>\n",
       "    <tr>\n",
       "      <th>2</th>\n",
       "      <td>LP001005</td>\n",
       "      <td>Male</td>\n",
       "      <td>Yes</td>\n",
       "      <td>0</td>\n",
       "      <td>Graduate</td>\n",
       "      <td>Yes</td>\n",
       "      <td>3000</td>\n",
       "      <td>0.0</td>\n",
       "      <td>66.0</td>\n",
       "      <td>360.0</td>\n",
       "      <td>1.0</td>\n",
       "      <td>Urban</td>\n",
       "      <td>Y</td>\n",
       "    </tr>\n",
       "  </tbody>\n",
       "</table>\n",
       "</div>"
      ],
      "text/plain": [
       "    Loan_ID Gender Married Dependents Education Self_Employed  \\\n",
       "0  LP001002   Male      No          0  Graduate            No   \n",
       "1  LP001003   Male     Yes          1  Graduate            No   \n",
       "2  LP001005   Male     Yes          0  Graduate           Yes   \n",
       "\n",
       "   ApplicantIncome  CoapplicantIncome  LoanAmount  Loan_Amount_Term  \\\n",
       "0             5849                0.0         NaN             360.0   \n",
       "1             4583             1508.0       128.0             360.0   \n",
       "2             3000                0.0        66.0             360.0   \n",
       "\n",
       "   Credit_History Property_Area Loan_Status  \n",
       "0             1.0         Urban           Y  \n",
       "1             1.0         Rural           N  \n",
       "2             1.0         Urban           Y  "
      ]
     },
     "execution_count": 28,
     "metadata": {},
     "output_type": "execute_result"
    }
   ],
   "source": [
    "# descripcion de los df\n",
    "print(\"\\nDataset de Entrenamiento\\n\")\n",
    "print(\"El número de columnas es \"+str(train.shape[1]))\n",
    "print(\"El total de observaciones es de \"+str(train.shape[0]) + '\\n')\n",
    "print(\"Dataset de Prueba\")\n",
    "print(\"El total de observaciones en el dataset de entrenamineto es de \"+str(test.shape[0]))\n",
    "print(\"Nuestros datos se ven así: \")\n",
    "train.head(3)"
   ]
  },
  {
   "cell_type": "markdown",
   "metadata": {},
   "source": [
    "### Obtenemos e imputamos los nulos del dataset de entrenamiento"
   ]
  },
  {
   "cell_type": "code",
   "execution_count": 39,
   "metadata": {},
   "outputs": [
    {
     "name": "stdout",
     "output_type": "stream",
     "text": [
      "\n",
      "Tenemos 149 columnas con nulos\n",
      "Número de Nas por fila: \n",
      "\n",
      "\n",
      "Número de Nas por columna: \n",
      "Verificamos que no tenemos nulos \n",
      "\n",
      "<class 'pandas.core.frame.DataFrame'>\n",
      "Int64Index: 480 entries, 1 to 613\n",
      "Data columns (total 13 columns):\n",
      "Loan_ID              480 non-null object\n",
      "Gender               480 non-null object\n",
      "Married              480 non-null object\n",
      "Dependents           480 non-null object\n",
      "Education            480 non-null object\n",
      "Self_Employed        480 non-null object\n",
      "ApplicantIncome      480 non-null int64\n",
      "CoapplicantIncome    480 non-null float64\n",
      "LoanAmount           480 non-null float64\n",
      "Loan_Amount_Term     480 non-null float64\n",
      "Credit_History       480 non-null float64\n",
      "Property_Area        480 non-null object\n",
      "Loan_Status          480 non-null object\n",
      "dtypes: float64(4), int64(1), object(8)\n",
      "memory usage: 52.5+ KB\n"
     ]
    }
   ],
   "source": [
    "# obtener e imputar nulos\n",
    "def num_nulos(x):\n",
    "    return x.isnull().sum()\n",
    "\n",
    "print(\"\\nTenemos \"+str(train.apply(num_nulos, axis=1).sum())+\" columnas con nulos\")\n",
    "print(\"Número de Nas por fila: \")\n",
    "train.apply(num_nulos, axis=1)\n",
    "\n",
    "print(\"\\n\")\n",
    "print(\"Número de Nas por columna: \")\n",
    "train.apply(num_nulos, axis=0)\n",
    "\n",
    "train_na = train.dropna()\n",
    "print(\"Verificamos que no tenemos nulos \\n\")\n",
    "train_na.info()"
   ]
  },
  {
   "cell_type": "markdown",
   "metadata": {},
   "source": [
    "### Generacion de variables dummy a partir de las categoricas"
   ]
  },
  {
   "cell_type": "code",
   "execution_count": 40,
   "metadata": {},
   "outputs": [
    {
     "name": "stdout",
     "output_type": "stream",
     "text": [
      "<class 'pandas.core.frame.DataFrame'>\n",
      "Int64Index: 480 entries, 1 to 613\n",
      "Data columns (total 23 columns):\n",
      "Loan_ID                    480 non-null object\n",
      "ApplicantIncome            480 non-null int64\n",
      "CoapplicantIncome          480 non-null float64\n",
      "LoanAmount                 480 non-null float64\n",
      "Loan_Amount_Term           480 non-null float64\n",
      "Credit_History             480 non-null float64\n",
      "Gender_Female              480 non-null uint8\n",
      "Gender_Male                480 non-null uint8\n",
      "Married_No                 480 non-null uint8\n",
      "Married_Yes                480 non-null uint8\n",
      "Dependents_0               480 non-null uint8\n",
      "Dependents_1               480 non-null uint8\n",
      "Dependents_2               480 non-null uint8\n",
      "Dependents_3+              480 non-null uint8\n",
      "Education_Graduate         480 non-null uint8\n",
      "Education_Not Graduate     480 non-null uint8\n",
      "Self_Employed_No           480 non-null uint8\n",
      "Self_Employed_Yes          480 non-null uint8\n",
      "Property_Area_Rural        480 non-null uint8\n",
      "Property_Area_Semiurban    480 non-null uint8\n",
      "Property_Area_Urban        480 non-null uint8\n",
      "Loan_Status_N              480 non-null uint8\n",
      "Loan_Status_Y              480 non-null uint8\n",
      "dtypes: float64(4), int64(1), object(1), uint8(17)\n",
      "memory usage: 54.2+ KB\n"
     ]
    }
   ],
   "source": [
    "# hacemos variables dummies de las categoricas\n",
    "variables = list(train_na.select_dtypes(include=['object']).columns)\n",
    "variables.remove('Loan_ID') \n",
    "aux = pd.get_dummies(train_na[variables])\n",
    "aux2 = train_na.drop(columns=variables, axis=1)\n",
    "\n",
    "train_dummies = pd.merge(aux2, aux, left_index=True, right_index=True)\n",
    "train_dummies.info()"
   ]
  },
  {
   "cell_type": "code",
   "execution_count": null,
   "metadata": {},
   "outputs": [],
   "source": [
    "### resumen y observaciones por variable categorica"
   ]
  },
  {
   "cell_type": "code",
   "execution_count": 41,
   "metadata": {},
   "outputs": [
    {
     "name": "stdout",
     "output_type": "stream",
     "text": [
      "Acontinuación tenemos el resumen por variable\n",
      "\n",
      "\n",
      "Para nuestras variables categóricas tenemos los siguientes valores por columna\n",
      "La columna Gender tiene los siguientes valores \n",
      "Male      394\n",
      "Female     86\n",
      "Name: Gender, dtype: int64\n",
      "La columna Married tiene los siguientes valores \n",
      "Yes    311\n",
      "No     169\n",
      "Name: Married, dtype: int64\n",
      "La columna Dependents tiene los siguientes valores \n",
      "0     274\n",
      "2      85\n",
      "1      80\n",
      "3+     41\n",
      "Name: Dependents, dtype: int64\n",
      "La columna Education tiene los siguientes valores \n",
      "Graduate        383\n",
      "Not Graduate     97\n",
      "Name: Education, dtype: int64\n",
      "La columna Self_Employed tiene los siguientes valores \n",
      "No     414\n",
      "Yes     66\n",
      "Name: Self_Employed, dtype: int64\n",
      "La columna Property_Area tiene los siguientes valores \n",
      "Semiurban    191\n",
      "Urban        150\n",
      "Rural        139\n",
      "Name: Property_Area, dtype: int64\n",
      "La columna Loan_Status tiene los siguientes valores \n",
      "Y    332\n",
      "N    148\n",
      "Name: Loan_Status, dtype: int64\n"
     ]
    }
   ],
   "source": [
    "print(\"Acontinuación tenemos el resumen por variable\")\n",
    "train_na.describe()\n",
    "print(\"\\n\")\n",
    "print(\"Para nuestras variables categóricas tenemos los siguientes valores por columna\")\n",
    "for col_name in variables:    \n",
    "    cuenta = train_na[col_name].value_counts()\n",
    "    print(\"La columna \"+str(col_name)+\" tiene los siguientes valores \\n\"+str(cuenta))"
   ]
  },
  {
   "cell_type": "markdown",
   "metadata": {},
   "source": [
    "### Tablas cruzadas"
   ]
  },
  {
   "cell_type": "code",
   "execution_count": 42,
   "metadata": {},
   "outputs": [
    {
     "data": {
      "text/html": [
       "<div>\n",
       "<style scoped>\n",
       "    .dataframe tbody tr th:only-of-type {\n",
       "        vertical-align: middle;\n",
       "    }\n",
       "\n",
       "    .dataframe tbody tr th {\n",
       "        vertical-align: top;\n",
       "    }\n",
       "\n",
       "    .dataframe thead th {\n",
       "        text-align: right;\n",
       "    }\n",
       "</style>\n",
       "<table border=\"1\" class=\"dataframe\">\n",
       "  <thead>\n",
       "    <tr style=\"text-align: right;\">\n",
       "      <th>Loan_Status</th>\n",
       "      <th>N</th>\n",
       "      <th>Y</th>\n",
       "      <th>All</th>\n",
       "    </tr>\n",
       "    <tr>\n",
       "      <th>Credit_History</th>\n",
       "      <th></th>\n",
       "      <th></th>\n",
       "      <th></th>\n",
       "    </tr>\n",
       "  </thead>\n",
       "  <tbody>\n",
       "    <tr>\n",
       "      <th>0.0</th>\n",
       "      <td>0.450000</td>\n",
       "      <td>0.050000</td>\n",
       "      <td>0.5</td>\n",
       "    </tr>\n",
       "    <tr>\n",
       "      <th>1.0</th>\n",
       "      <td>0.103659</td>\n",
       "      <td>0.396341</td>\n",
       "      <td>0.5</td>\n",
       "    </tr>\n",
       "    <tr>\n",
       "      <th>All</th>\n",
       "      <td>0.154167</td>\n",
       "      <td>0.345833</td>\n",
       "      <td>0.5</td>\n",
       "    </tr>\n",
       "  </tbody>\n",
       "</table>\n",
       "</div>"
      ],
      "text/plain": [
       "Loan_Status            N         Y  All\n",
       "Credit_History                         \n",
       "0.0             0.450000  0.050000  0.5\n",
       "1.0             0.103659  0.396341  0.5\n",
       "All             0.154167  0.345833  0.5"
      ]
     },
     "execution_count": 42,
     "metadata": {},
     "output_type": "execute_result"
    }
   ],
   "source": [
    "# tablas cruzadas con porcentaje\n",
    "pd.crosstab(train_na[\"Gender\"],train_na[\"Loan_Status\"],margins=True)    \n",
    "pd.crosstab(train_na[\"Gender\"],train_na[\"Loan_Status\"],margins=True).apply(lambda r: r/r.sum(), axis=1)\n",
    "pd.crosstab(train_na[\"Credit_History\"],train_na[\"Loan_Status\"],margins=True)\n",
    "pd.crosstab(train_na[\"Credit_History\"],train_na[\"Loan_Status\"],margins=True).apply(lambda r: r/r.sum(), axis=1)"
   ]
  },
  {
   "cell_type": "markdown",
   "metadata": {},
   "source": [
    "# Analisis de los Resultados"
   ]
  },
  {
   "cell_type": "code",
   "execution_count": 44,
   "metadata": {},
   "outputs": [
    {
     "data": {
      "text/plain": [
       "Text(0.5,1,'Ingreso de la persona')"
      ]
     },
     "execution_count": 44,
     "metadata": {},
     "output_type": "execute_result"
    },
    {
     "data": {
      "image/png": "[encoded data removed]",
      "text/plain": [
       "<matplotlib.figure.Figure at 0xa87f160>"
      ]
     },
     "metadata": {},
     "output_type": "display_data"
    }
   ],
   "source": [
    "plt.hist(train_na[\"ApplicantIncome\"],color='#0504aa')\n",
    "#plt.grid(axis='y', alpha=0.75)\n",
    "plt.xlabel('Ingreso')\n",
    "plt.ylabel('Frecuencia')\n",
    "plt.title('Ingreso de la persona')"
   ]
  },
  {
   "cell_type": "markdown",
   "metadata": {},
   "source": [
    "Analisis 1"
   ]
  },
  {
   "cell_type": "code",
   "execution_count": 45,
   "metadata": {},
   "outputs": [
    {
     "data": {
      "text/plain": [
       "Text(0.5,1,'Importe Prestado')"
      ]
     },
     "execution_count": 45,
     "metadata": {},
     "output_type": "execute_result"
    },
    {
     "data": {
      "image/png": "[encoded data removed]",
      "text/plain": [
       "<matplotlib.figure.Figure at 0xaa144e0>"
      ]
     },
     "metadata": {},
     "output_type": "display_data"
    }
   ],
   "source": [
    "plt.hist(train_na[\"LoanAmount\"])\n",
    "plt.xlabel('Importe')\n",
    "plt.ylabel('Frecuencia')\n",
    "plt.title('Importe Prestado')"
   ]
  },
  {
   "cell_type": "markdown",
   "metadata": {},
   "source": [
    "Analisis 2"
   ]
  },
  {
   "cell_type": "code",
   "execution_count": 46,
   "metadata": {},
   "outputs": [
    {
     "data": {
      "text/plain": [
       "<matplotlib.axes._subplots.AxesSubplot at 0xb5589e8>"
      ]
     },
     "execution_count": 46,
     "metadata": {},
     "output_type": "execute_result"
    },
    {
     "data": {
      "image/png": "[encoded data removed]",
      "text/plain": [
       "<matplotlib.figure.Figure at 0xb0eeb38>"
      ]
     },
     "metadata": {},
     "output_type": "display_data"
    },
    {
     "data": {
      "image/png": "[encoded data removed]",
      "text/plain": [
       "<matplotlib.figure.Figure at 0xaa1ac18>"
      ]
     },
     "metadata": {},
     "output_type": "display_data"
    }
   ],
   "source": [
    "# boxplots\n",
    "train_na.boxplot(column='LoanAmount',by='Credit_History')\n",
    "train_na.boxplot(column='LoanAmount',by='Gender')"
   ]
  },
  {
   "cell_type": "markdown",
   "metadata": {},
   "source": [
    "Analisis 3"
   ]
  },
  {
   "cell_type": "code",
   "execution_count": null,
   "metadata": {},
   "outputs": [],
   "source": []
  }
 ],
 "metadata": {
  "kernelspec": {
   "display_name": "Python 3",
   "language": "python",
   "name": "python3"
  },
  "language_info": {
   "codemirror_mode": {
    "name": "ipython",
    "version": 3
   },
   "file_extension": ".py",
   "mimetype": "text/x-python",
   "name": "python",
   "nbconvert_exporter": "python",
   "pygments_lexer": "ipython3",
   "version": "3.6.4"
  }
 },
 "nbformat": 4,
 "nbformat_minor": 2
}
